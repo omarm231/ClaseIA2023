{
  "nbformat": 4,
  "nbformat_minor": 0,
  "metadata": {
    "colab": {
      "provenance": [],
      "authorship_tag": "ABX9TyNwLKZVnAVMO9CsBpwIZ6ju",
      "include_colab_link": true
    },
    "kernelspec": {
      "name": "python3",
      "display_name": "Python 3"
    },
    "language_info": {
      "name": "python"
    }
  },
  "cells": [
    {
      "cell_type": "markdown",
      "metadata": {
        "id": "view-in-github",
        "colab_type": "text"
      },
      "source": [
        "<a href=\"https://colab.research.google.com/github/omarm231/ClaseIA2023/blob/main/Actividades/EjercicioPython_1.ipynb\" target=\"_parent\"><img src=\"https://colab.research.google.com/assets/colab-badge.svg\" alt=\"Open In Colab\"/></a>"
      ]
    },
    {
      "cell_type": "code",
      "execution_count": 2,
      "metadata": {
        "id": "zAkriSMc7wkC"
      },
      "outputs": [],
      "source": [
        "#Omar Alonso Manzano Favela matrícula 2077826"
      ]
    },
    {
      "cell_type": "code",
      "source": [
        "#Escribe un programa que solicite al usuario un número y que indique si es par o impar.\n",
        "num = int(input('Introduzca un número: '))\n",
        "if(num%2==0):\n",
        "  print('Es un número par')\n",
        "else:\n",
        "  print('Es un número impar')"
      ],
      "metadata": {
        "colab": {
          "base_uri": "https://localhost:8080/"
        },
        "id": "N5dQgG2e-Igd",
        "outputId": "5bf49691-fc11-4787-efd2-473085baf7a0"
      },
      "execution_count": 9,
      "outputs": [
        {
          "output_type": "stream",
          "name": "stdout",
          "text": [
            "Introduzca un número: 32\n",
            "Es un número par\n"
          ]
        }
      ]
    },
    {
      "cell_type": "code",
      "source": [
        "#Escribe un programa que tome una lista de números ingresados por el usuario y muestre la lista en orden inverso.\n",
        "input_numbers = input(\"Ingresa una lista de números separados por espacios: \")\n",
        "# Dividir la entrada del usuario en una lista de números\n",
        "numbers = input_numbers.split()\n",
        "# Convertir los elementos de la lista en números enteros\n",
        "numbers = [int(num) for num in numbers]\n",
        "# Invertir la lista\n",
        "reversed_numbers = list(reversed(numbers))\n",
        "# Mostrar la lista en orden inverso\n",
        "print(\"Lista en orden inverso:\", reversed_numbers)"
      ],
      "metadata": {
        "colab": {
          "base_uri": "https://localhost:8080/"
        },
        "id": "_pL1x6RG-pAv",
        "outputId": "67ef0181-1ac3-4a2b-e89f-7002853497e5"
      },
      "execution_count": 12,
      "outputs": [
        {
          "output_type": "stream",
          "name": "stdout",
          "text": [
            "Ingresa una lista de números separados por espacios: 1 2 3 4 5 6 7 8 9\n",
            "Lista en orden inverso: [9, 8, 7, 6, 5, 4, 3, 2, 1]\n"
          ]
        }
      ]
    },
    {
      "cell_type": "code",
      "source": [
        "\"\"\"\n",
        "Juego de adivinar el número: Crea un programa que genere un número aleatorio entre 1 y 100, y luego le pida\n",
        "al usuario que adivine el número. El programa debe proporcionar pistas al usuario si el número es mayor o menor\n",
        "que el número objetivo, y seguir solicitando un nuevo intento hasta que el usuario adivine correctamente.\n",
        "\"\"\"\n",
        "import random\n",
        "# Genera un número entero aleatorio entre 1 y 100\n",
        "numero_aleatorio = random.randint(1, 100)\n",
        "\n",
        "print('Se ha generado un número aleatorio entre 1 y 100, cuál crees que es?')\n",
        "while(intento != numero_aleatorio):\n",
        "  intento = int(input())\n",
        "  if(intento > numero_aleatorio):\n",
        "    print(\"El número aleatorio es menor que \",intento)\n",
        "  elif(intento < numero_aleatorio):\n",
        "    print(\"El número aleatorio es mayor que \",intento)\n",
        "\n",
        "print('¡Has adivinado el número, es ' + str(numero_aleatorio) + '!')\n"
      ],
      "metadata": {
        "colab": {
          "base_uri": "https://localhost:8080/"
        },
        "id": "FucdUNhV_Rht",
        "outputId": "2ead59cd-878e-4989-9020-1cf18c3f6f73"
      },
      "execution_count": 22,
      "outputs": [
        {
          "output_type": "stream",
          "name": "stdout",
          "text": [
            "Se ha generado un número aleatorio entre 1 y 100, cuál crees que es?\n",
            "50\n",
            "El número aleatorio es mayor que  50\n",
            "60\n",
            "El número aleatorio es mayor que  60\n",
            "100\n",
            "El número aleatorio es menor que  100\n",
            "90\n",
            "El número aleatorio es menor que  90\n",
            "80\n",
            "El número aleatorio es mayor que  80\n",
            "85\n",
            "El número aleatorio es menor que  85\n",
            "81\n",
            "¡Has adivinado el número, es 81!\n"
          ]
        }
      ]
    },
    {
      "cell_type": "code",
      "source": [
        "\"\"\"\n",
        "Ejercicio de cálculo de números primos en un rango dado: Escribe un programa que solicite al usuario\n",
        " un rango de números y muestre todos los números primos dentro de ese rango.\n",
        "\"\"\"\n",
        "def es_primo(numero):\n",
        "    if numero <= 1:\n",
        "        return False\n",
        "    if numero <= 3:\n",
        "        return True\n",
        "    if numero % 2 == 0 or numero % 3 == 0:\n",
        "        return False\n",
        "    i = 5\n",
        "    while i * i <= numero:\n",
        "        if numero % i == 0 or numero % (i + 2) == 0:\n",
        "            return False\n",
        "        i += 6\n",
        "    return True\n",
        "\n",
        "try: #se ejecuta en caso de que se introduzcan números\n",
        "    limite_inferior = int(input(\"Ingrese el límite inferior del rango: \"))\n",
        "    limite_superior = int(input(\"Ingrese el límite superior del rango: \"))\n",
        "\n",
        "    if limite_inferior < 2:\n",
        "        limite_inferior = 2\n",
        "\n",
        "    print(f\"Los números primos en el rango de {limite_inferior} a {limite_superior} son:\")\n",
        "    for numero in range(limite_inferior, limite_superior + 1):\n",
        "        if es_primo(numero):\n",
        "            print(numero)\n",
        "\n",
        "except ValueError: #Se ejecuta si se introduce un texto como entrada\n",
        "    print(\"Por favor, ingrese números válidos para los límites del rango.\")"
      ],
      "metadata": {
        "colab": {
          "base_uri": "https://localhost:8080/"
        },
        "id": "w2MgRrKSB142",
        "outputId": "802b34af-e877-453b-b1c7-ffcadda1f65f"
      },
      "execution_count": 25,
      "outputs": [
        {
          "output_type": "stream",
          "name": "stdout",
          "text": [
            "Ingrese el límite inferior del rango: 0\n",
            "Ingrese el límite superior del rango: 100\n",
            "Los números primos en el rango de 2 a 100 son:\n",
            "2\n",
            "3\n",
            "5\n",
            "7\n",
            "11\n",
            "13\n",
            "17\n",
            "19\n",
            "23\n",
            "29\n",
            "31\n",
            "37\n",
            "41\n",
            "43\n",
            "47\n",
            "53\n",
            "59\n",
            "61\n",
            "67\n",
            "71\n",
            "73\n",
            "79\n",
            "83\n",
            "89\n",
            "97\n"
          ]
        }
      ]
    }
  ]
}